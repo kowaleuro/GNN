{
 "cells": [
  {
   "cell_type": "code",
   "execution_count": 1,
   "metadata": {},
   "outputs": [],
   "source": [
    "import os\n",
    "from datanetAPI import DatanetAPI\n",
    "from itertools import permutations\n"
   ]
  },
  {
   "cell_type": "code",
   "execution_count": 2,
   "metadata": {},
   "outputs": [],
   "source": [
    "data_dir = os.path.join('dataset','simulation','results','results_mb_0025-0049')"
   ]
  },
  {
   "cell_type": "code",
   "execution_count": 3,
   "metadata": {},
   "outputs": [
    {
     "name": "stdout",
     "output_type": "stream",
     "text": [
      "36\n",
      "49\n",
      "25\n",
      "49\n",
      "64\n",
      "64\n",
      "49\n",
      "49\n",
      "25\n",
      "49\n",
      "64\n",
      "64\n",
      "49\n",
      "49\n",
      "49\n",
      "49\n",
      "64\n",
      "49\n",
      "49\n",
      "49\n",
      "25\n",
      "64\n",
      "49\n",
      "64\n",
      "49\n"
     ]
    }
   ],
   "source": [
    "try:\n",
    "    data_dir = data_dir.decode(\"UTF-8\")\n",
    "except (UnicodeDecodeError, AttributeError):\n",
    "    pass\n",
    "\n",
    "tool = DatanetAPI(data_dir, shuffle=False)\n",
    "flows = dict()\n",
    "for sample in iter(tool):\n",
    "    traffic_matrix = sample.get_traffic_matrix()\n",
    "    performance_matrix = sample.get_performance_matrix()\n",
    "    for src, dst in filter(\n",
    "        lambda x: traffic_matrix[x][\"AggInfo\"][\"AvgBw\"] != 0\n",
    "        and traffic_matrix[x][\"AggInfo\"][\"PktsGen\"] != 0,\n",
    "        permutations(range(len(traffic_matrix)), 2),\n",
    "    ):\n",
    "        for local_flow_id in range(len(traffic_matrix[src, dst][\"Flows\"])):\n",
    "            flow = traffic_matrix[src, dst][\"Flows\"][local_flow_id]\n",
    "            # Size distribution is always determinstic\n",
    "            # Obtain and clean the path followed the flow\n",
    "            # We must also clean up the name of the traffic generator\n",
    "            flow_id = f\"{src}_{dst}_{local_flow_id}\"\n",
    "            flows[flow_id] = {\n",
    "                \"source\": src,\n",
    "                \"destination\": dst,\n",
    "                \"flow_id\": flow_id,\n",
    "                \"traffic\": flow[\"AvgBw\"],  # in bps\n",
    "                \"packets\": flow[\"PktsGen\"],\n",
    "                \"packet_size\": flow[\"SizeDistParams\"][\"AvgPktSize\"],\n",
    "                \"delay\": performance_matrix[src, dst][\"Flows\"][local_flow_id][\n",
    "                    \"AvgDelay\"\n",
    "                ]\n",
    "                * 1000,\n",
    "                # in ms\n",
    "                \"Jitter\": performance_matrix[src, dst][\"Flows\"][local_flow_id][\n",
    "                    \"Jitter\"\n",
    "                ]\n",
    "                * 1000,\n",
    "                \"PktsDrop\": performance_matrix[src, dst][\"Flows\"][local_flow_id][\n",
    "                    \"PktsDrop\"\n",
    "                ],    \n",
    "            }"
   ]
  },
  {
   "cell_type": "code",
   "execution_count": 4,
   "metadata": {},
   "outputs": [
    {
     "name": "stdout",
     "output_type": "stream",
     "text": [
      "90.3076 1.31 0.0 0.0\n",
      "36.3424 1.269 0.0 0.0\n",
      "0.156047 2.375 0.0 0.0\n",
      "10.9045 2.5829999999999997 0.0 0.0\n",
      "1.98701 1.1440000000000001 0.0 0.0\n",
      "140.188 0.48700000000000004 0.0 0.0\n",
      "53.1934 0.472 0.0 0.0\n",
      "18.7815 1.006 0.0 0.0\n",
      "151.278 0.35300000000000004 0.0 0.0\n",
      "15.5137 0.888 0.0 0.0\n",
      "28.1753 2.2390000000000003 0.0 0.0\n",
      "31.4675 1.5050000000000001 0.0 0.0\n",
      "42.4707 1.908 0.0 0.0\n",
      "2.06767 2.186 0.0 0.0\n",
      "18.031 2.1470000000000002 0.0 0.0\n",
      "41.6904 1.0230000000000001 0.0 0.0\n",
      "152.567 0.36200000000000004 0.0 0.0\n",
      "194.493 0.422 0.0 0.0\n",
      "9.74672 2.1020000000000003 0.0 0.0\n",
      "43.1096 2.8289999999999997 0.0 0.0\n",
      "82.2784 0.575 0.0 0.0\n",
      "25.1933 0.24600000000000002 0.0 0.0\n",
      "8.66656 2.9229999999999996 0.0 0.0\n",
      "51.4012 0.91 0.0 0.0\n",
      "2.00018 2.884 0.0 0.0\n",
      "58.4634 0.42000000000000004 0.0 0.0\n",
      "75.977 0.639 0.0 0.0\n",
      "311.611 0.36200000000000004 0.0 0.0\n",
      "49.0891 0.875 0.0 0.0\n",
      "14.3578 2.8739999999999997 0.0 0.0\n",
      "91.7522 1.098 0.0 0.0\n",
      "5.78627 1.348 0.0 0.0\n",
      "34.6582 4.139 0.0 0.0\n",
      "108.256 0.5469999999999999 0.0 0.0\n",
      "32.8869 1.312 0.0 0.0\n",
      "25.8877 2.451 0.0 0.0\n",
      "2.08015 2.061 0.0 0.0\n",
      "45.0728 2.115 0.0 0.0\n",
      "13.9848 2.0170000000000003 0.0 0.0\n",
      "130.568 1.141 0.0 0.0\n",
      "7.72313 1.302 0.0 0.0\n",
      "5.85581 3.163 0.0 0.0\n",
      "70.5387 0.5559999999999999 0.0 0.0\n",
      "5.64854 2.639 0.0 0.0\n",
      "31.3162 2.241 0.0 0.0\n",
      "186.668 0.366 0.0 0.0\n",
      "2.76364 2.637 0.0 0.0\n",
      "30.473 1.123 0.0 0.0\n",
      "1.7162 2.477 0.0 0.0\n",
      "10.45 1.3780000000000001 0.0 0.0\n",
      "154.668 0.559 0.0 0.0\n",
      "6.09043 3.027 0.0 0.0\n",
      "11.6596 1.331 0.0 0.0\n",
      "10.5399 2.178 0.0 0.0\n",
      "67.2765 0.773 0.0 0.0\n",
      "54.827 1.77 0.0 0.0\n"
     ]
    }
   ],
   "source": [
    "for flow, val in flows.items():\n",
    "    if val['delay'] > 0:\n",
    "        print(val['packets'],val['delay'],val['Jitter'],val['PktsDrop'])\n",
    "    "
   ]
  }
 ],
 "metadata": {
  "kernelspec": {
   "display_name": ".venv",
   "language": "python",
   "name": "python3"
  },
  "language_info": {
   "codemirror_mode": {
    "name": "ipython",
    "version": 3
   },
   "file_extension": ".py",
   "mimetype": "text/x-python",
   "name": "python",
   "nbconvert_exporter": "python",
   "pygments_lexer": "ipython3",
   "version": "3.11.9"
  }
 },
 "nbformat": 4,
 "nbformat_minor": 2
}
