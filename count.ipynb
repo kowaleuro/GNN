{
 "cells": [
  {
   "cell_type": "code",
   "execution_count": 1,
   "metadata": {},
   "outputs": [],
   "source": [
    "import tensorflow as tf\n",
    "from functions.get_dataset import get_dataset, normalize, combined_dataset"
   ]
  },
  {
   "cell_type": "code",
   "execution_count": 15,
   "metadata": {},
   "outputs": [],
   "source": [
    "ds_path_master = 'data/all_data_mb_cv'\n",
    "ds_path_sim = 'data/sim_training_cv'\n",
    "\n",
    "sim_path_test = 'data/all_data_sim_test_cv'"
   ]
  },
  {
   "cell_type": "code",
   "execution_count": 16,
   "metadata": {},
   "outputs": [],
   "source": [
    "ds_val = []\n",
    "ds_train = []\n",
    "ds_test = []\n",
    "if ds_path_master != '':\n",
    "    for i in range(0,4):\n",
    "        ds_train.append(tf.data.Dataset.load(f\"{ds_path_master}/{i}/training\", compression=\"GZIP\"))\n",
    "        ds_val.append(tf.data.Dataset.load(f\"{ds_path_master}/{i}/validation\", compression=\"GZIP\"))\n",
    "    ds_test.append(tf.data.Dataset.load(f\"{ds_path_master}/4/training\", compression=\"GZIP\"))\n",
    "    ds_test.append(tf.data.Dataset.load(f\"{ds_path_master}/4/validation\", compression=\"GZIP\"))\n",
    "if ds_path_sim != '':\n",
    "    for i in range(0,5):\n",
    "        ds_train.append(tf.data.Dataset.load(f\"{ds_path_sim}/{i}/training\", compression=\"GZIP\"))\n",
    "        ds_val.append(tf.data.Dataset.load(f\"{ds_path_sim}/{i}/validation\", compression=\"GZIP\"))\n",
    "\n",
    "if sim_path_test != '':\n",
    "    for i in range(0,5):\n",
    "        ds_test.append(tf.data.Dataset.load(f\"{sim_path_test}/{i}/validation\", compression=\"GZIP\"))\n",
    "        ds_test.append(tf.data.Dataset.load(f\"{sim_path_test}/{i}/training\", compression=\"GZIP\"))\n",
    "\n",
    "ds_val = combined_dataset(ds_val).map(normalize)\n",
    "ds_test = combined_dataset(ds_test).map(normalize)\n",
    "ds_train = combined_dataset(ds_train).map(normalize)"
   ]
  },
  {
   "cell_type": "code",
   "execution_count": 17,
   "metadata": {},
   "outputs": [],
   "source": [
    "ds_val_sim = []\n",
    "ds_train_sim = []\n",
    "ds_test_sim = []\n",
    "if ds_path_sim != '':\n",
    "    for i in range(0,5):\n",
    "        ds_train_sim.append(tf.data.Dataset.load(f\"{ds_path_sim}/{i}/training\", compression=\"GZIP\"))\n",
    "        ds_val_sim.append(tf.data.Dataset.load(f\"{ds_path_sim}/{i}/validation\", compression=\"GZIP\"))\n",
    "\n",
    "if sim_path_test != '':\n",
    "    for i in range(0,5):\n",
    "        ds_test_sim.append(tf.data.Dataset.load(f\"{sim_path_test}/{i}/validation\", compression=\"GZIP\"))\n",
    "        ds_test_sim.append(tf.data.Dataset.load(f\"{sim_path_test}/{i}/training\", compression=\"GZIP\"))\n",
    "\n",
    "ds_val_sim = combined_dataset(ds_val_sim).map(normalize)\n",
    "ds_test_sim = combined_dataset(ds_test_sim).map(normalize)\n",
    "ds_train_sim = combined_dataset(ds_train_sim).map(normalize)"
   ]
  },
  {
   "cell_type": "code",
   "execution_count": 18,
   "metadata": {},
   "outputs": [
    {
     "name": "stdout",
     "output_type": "stream",
     "text": [
      "Train: 15,432\n",
      "Validation: 3,859\n",
      "Test: 6,004\n",
      "Train: 61.008104368452265\n",
      "Validation: 15.255979442577585\n",
      "Test: 23.73591618897015\n"
     ]
    }
   ],
   "source": [
    "val = len(list(ds_val))\n",
    "train = len(list(ds_train))\n",
    "test = len(list(ds_test))\n",
    "\n",
    "print('Train: {:,}'.format(train))\n",
    "print('Validation: {:,}'.format(val))\n",
    "print('Test: {:,}'.format(test))\n",
    "\n",
    "combined = val + train + test\n",
    "\n",
    "print('Train: {:,}'.format(train/combined*100))\n",
    "print('Validation: {:,}'.format(val/combined*100))\n",
    "print('Test: {:,}'.format(test/combined*100))"
   ]
  },
  {
   "cell_type": "code",
   "execution_count": 19,
   "metadata": {},
   "outputs": [],
   "source": [
    "val_sim = len(list(ds_val_sim))\n",
    "train_sim = len(list(ds_train_sim))\n",
    "test_sim = len(list(ds_test_sim))"
   ]
  },
  {
   "cell_type": "code",
   "execution_count": 20,
   "metadata": {},
   "outputs": [
    {
     "name": "stdout",
     "output_type": "stream",
     "text": [
      "Train: 1,388\n",
      "Validation: 347\n",
      "Test: 1,615\n",
      "Train: 8.994297563504407\n",
      "Validation: 8.991966830785177\n",
      "Test: 26.89873417721519\n"
     ]
    }
   ],
   "source": [
    "print('Train: {:,}'.format(train_sim))\n",
    "print('Validation: {:,}'.format(val_sim))\n",
    "print('Test: {:,}'.format(test_sim))\n",
    "\n",
    "print('Train: {:,}'.format(train_sim/train*100))\n",
    "print('Validation: {:,}'.format(val_sim/val*100))\n",
    "print('Test: {:,}'.format(test_sim/test*100))"
   ]
  }
 ],
 "metadata": {
  "kernelspec": {
   "display_name": ".venv",
   "language": "python",
   "name": "python3"
  },
  "language_info": {
   "codemirror_mode": {
    "name": "ipython",
    "version": 3
   },
   "file_extension": ".py",
   "mimetype": "text/x-python",
   "name": "python",
   "nbconvert_exporter": "python",
   "pygments_lexer": "ipython3",
   "version": "3.11.9"
  }
 },
 "nbformat": 4,
 "nbformat_minor": 2
}
